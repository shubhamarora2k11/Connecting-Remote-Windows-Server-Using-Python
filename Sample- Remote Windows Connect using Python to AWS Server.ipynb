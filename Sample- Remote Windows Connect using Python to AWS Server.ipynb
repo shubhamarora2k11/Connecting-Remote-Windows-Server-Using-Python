{
 "cells": [
  {
   "cell_type": "code",
   "execution_count": 1,
   "metadata": {},
   "outputs": [
    {
     "name": "stdout",
     "output_type": "stream",
     "text": [
      "\n",
      "Windows IP Configuration\n",
      "\n",
      "   Host Name . . . . . . . . . . . . : WIN-39U9VVEU2M7\n",
      "   Primary Dns Suffix  . . . . . . . : \n",
      "   Node Type . . . . . . . . . . . . : Hybrid\n",
      "   IP Routing Enabled. . . . . . . . : No\n",
      "   WINS Proxy Enabled. . . . . . . . : No\n",
      "   DNS Suffix Search List. . . . . . : us-east-2.ec2-utilities.amazonaws.com\n",
      "                                       us-east-1.ec2-utilities.amazonaws.com\n",
      "                                       ec2-utilities.amazonaws.com\n",
      "                                       ec2.internal\n",
      "                                       compute-1.internal\n",
      "                                       us-east-2.compute.internal\n",
      "\n",
      "Ethernet adapter Ethernet 2:\n",
      "\n",
      "   Connection-specific DNS Suffix  . : us-east-2.compute.internal\n",
      "   Description . . . . . . . . . . . : AWS PV Network Device #0\n",
      "   Physical Address. . . . . . . . . : 0A-2C-98-3A-66-6C\n",
      "   DHCP Enabled. . . . . . . . . . . : Yes\n",
      "   Autoconfiguration Enabled . . . . : Yes\n",
      "   Link-local IPv6 Address . . . . . : fe80::6ddf:7fee:a584:bcfa%12(Preferred) \n",
      "   IPv4 Address. . . . . . . . . . . : 172.31.38.189(Preferred) \n",
      "   Subnet Mask . . . . . . . . . . . : 255.255.240.0\n",
      "   Lease Obtained. . . . . . . . . . : Saturday, August 25, 2018 3:16:06 PM\n",
      "   Lease Expires . . . . . . . . . . : Saturday, August 25, 2018 6:46:05 PM\n",
      "   Default Gateway . . . . . . . . . : 172.31.32.1\n",
      "   DHCP Server . . . . . . . . . . . : 172.31.32.1\n",
      "   DHCPv6 IAID . . . . . . . . . . . : 336227897\n",
      "   DHCPv6 Client DUID. . . . . . . . : 00-01-00-01-23-11-F6-64-0A-92-40-B3-8E-7C\n",
      "   DNS Servers . . . . . . . . . . . : 172.31.0.2\n",
      "   NetBIOS over Tcpip. . . . . . . . : Enabled\n",
      "\n",
      "Tunnel adapter isatap.us-east-2.compute.internal:\n",
      "\n",
      "   Media State . . . . . . . . . . . : Media disconnected\n",
      "   Connection-specific DNS Suffix  . : us-east-2.compute.internal\n",
      "   Description . . . . . . . . . . . : Microsoft ISATAP Adapter\n",
      "   Physical Address. . . . . . . . . : 00-00-00-00-00-00-00-E0\n",
      "   DHCP Enabled. . . . . . . . . . . : No\n",
      "   Autoconfiguration Enabled . . . . : Yes\n",
      "\n"
     ]
    }
   ],
   "source": [
    "\n",
    "import winrm\n",
    "\n",
    "s = winrm.Session('18.222.190.47', auth=('Administrator', 'User@123'))\n",
    "r = s.run_cmd('ipconfig', ['/all'])\n",
    "\n",
    "string = str(r.std_out)\n",
    "string = string.split('\\r\\n')\n",
    "for i in string:\n",
    "    print i"
   ]
  },
  {
   "cell_type": "code",
   "execution_count": null,
   "metadata": {},
   "outputs": [],
   "source": []
  }
 ],
 "metadata": {
  "kernelspec": {
   "display_name": "Python 2",
   "language": "python",
   "name": "python2"
  },
  "language_info": {
   "codemirror_mode": {
    "name": "ipython",
    "version": 2
   },
   "file_extension": ".py",
   "mimetype": "text/x-python",
   "name": "python",
   "nbconvert_exporter": "python",
   "pygments_lexer": "ipython2",
   "version": "2.7.12"
  }
 },
 "nbformat": 4,
 "nbformat_minor": 2
}
